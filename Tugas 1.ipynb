{
 "cells": [
  {
   "cell_type": "code",
   "execution_count": 41,
   "metadata": {},
   "outputs": [
    {
     "name": "stdout",
     "output_type": "stream",
     "text": [
      "Program Perhitungan Nilai Mata Kuliah Komputasi Geofisika\n",
      "\n",
      "\n",
      "Masukan Nama Anda : Thaariq Havis Alatif\n",
      "Masukan Nilai UAS :98\n",
      "Masukan Nilai ETS :87\n",
      "Masukan Nilai Kuis :90\n",
      "Masukan Nilai Tugas :78\n",
      "\n",
      "Perhitungan Nilai Akhir\n",
      "\n",
      "Thaariq Havis Alatif\n",
      "Jumlah Nilai : 74.4\n",
      "Nilai Huruf :\n",
      "B\n",
      "Keterangan : Lulus\n"
     ]
    }
   ],
   "source": [
    "print('Program Perhitungan Nilai Mata Kuliah Komputasi Geofisika')\n",
    "print('')\n",
    "print('')\n",
    "nama =input('Masukan Nama Anda :')\n",
    "eas =int(input('Masukan Nilai UAS :'))\n",
    "ets =int(input('Masukan Nilai ETS :'))\n",
    "kuis =int(input('Masukan Nilai Kuis :'))\n",
    "tugas =int(input('Masukan Nilai Tugas :'))\n",
    "nilai_eas = eas*25/100;\n",
    "nilai_ets = ets*20/100;\n",
    "nilai_kuis = kuis*20/100;\n",
    "nilai_tugas = tugas*25/100;\n",
    "nilai_akhir = nilai_tugas+nilai_ets+nilai_kuis+nilai_tugas;\n",
    "print('')\n",
    "print('Perhitungan Nilai Akhir')\n",
    "print('')\n",
    "print(nama)\n",
    "print('Jumlah Nilai :', str(nilai_akhir))\n",
    "print('Nilai Huruf :')\n",
    "if nilai_akhir >= 86:\n",
    "    print('A')\n",
    "elif nilai_akhir >= 76:\n",
    "    print('AB')\n",
    "elif nilai_akhir >=66:\n",
    "    print('B')\n",
    "elif nilai_akhir >=61:\n",
    "    print('BC')\n",
    "elif nilai_akhir >=56:\n",
    "    print('C')\n",
    "elif nilai_akhir >=41:\n",
    "    print('D')\n",
    "elif nilai_akhir >=0:\n",
    "    print('E')\n",
    "\n",
    "if nilai_akhir <=50:\n",
    "    print('Keterangan : Gagal')\n",
    "else :\n",
    "    print('Keterangan : Lulus')"
   ]
  },
  {
   "cell_type": "code",
   "execution_count": null,
   "metadata": {},
   "outputs": [],
   "source": []
  }
 ],
 "metadata": {
  "kernelspec": {
   "display_name": "Python 3",
   "language": "python",
   "name": "python3"
  },
  "language_info": {
   "codemirror_mode": {
    "name": "ipython",
    "version": 3
   },
   "file_extension": ".py",
   "mimetype": "text/x-python",
   "name": "python",
   "nbconvert_exporter": "python",
   "pygments_lexer": "ipython3",
   "version": "3.7.4"
  }
 },
 "nbformat": 4,
 "nbformat_minor": 2
}
